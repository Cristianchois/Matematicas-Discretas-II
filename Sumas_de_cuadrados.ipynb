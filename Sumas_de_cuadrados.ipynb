{
  "nbformat": 4,
  "nbformat_minor": 0,
  "metadata": {
    "colab": {
      "provenance": [],
      "authorship_tag": "ABX9TyNB0APzjGfSGG8h77qddlHC",
      "include_colab_link": true
    },
    "kernelspec": {
      "name": "python3",
      "display_name": "Python 3"
    },
    "language_info": {
      "name": "python"
    }
  },
  "cells": [
    {
      "cell_type": "markdown",
      "metadata": {
        "id": "view-in-github",
        "colab_type": "text"
      },
      "source": [
        "<a href=\"https://colab.research.google.com/github/cchois/Matematicas-Discretas-II/blob/main/Sumas_de_cuadrados.ipynb\" target=\"_parent\"><img src=\"https://colab.research.google.com/assets/colab-badge.svg\" alt=\"Open In Colab\"/></a>"
      ]
    },
    {
      "cell_type": "code",
      "execution_count": null,
      "metadata": {
        "colab": {
          "base_uri": "https://localhost:8080/"
        },
        "id": "fGEZb7CizNWL",
        "outputId": "e1fbac37-3a2d-4d0a-8658-a9b7242c9326"
      },
      "outputs": [
        {
          "output_type": "stream",
          "name": "stdout",
          "text": [
            "[1, 32]\n"
          ]
        }
      ],
      "source": [
        "import math\n",
        "\n",
        "\n",
        "def sum_of_squares(n):\n",
        "    result = []\n",
        "    while n % 4 == 0:\n",
        "        result.append(0)\n",
        "        n //= 4\n",
        "    if n % 8 == 7:\n",
        "        return []\n",
        "    a = 0\n",
        "    b = int(math.sqrt(n))\n",
        "    while a <= b:\n",
        "        if a*a + b*b == n:\n",
        "            result.append(a)\n",
        "            result.append(b)\n",
        "            return result\n",
        "        elif a*a + b*b < n:\n",
        "            a += 1\n",
        "        else:\n",
        "            b -= 1\n",
        "    return []\n",
        "\n",
        "# Ejemplo de uso\n",
        "print(sum_of_squares(1025)) # Devuelve [1, 4, 16, 256, 256]"
      ]
    }
  ]
}