{
  "nbformat": 4,
  "nbformat_minor": 0,
  "metadata": {
    "colab": {
      "provenance": [],
      "authorship_tag": "ABX9TyOTbq8+d2z1zSeMKRo7uVnv",
      "include_colab_link": true
    },
    "kernelspec": {
      "name": "python3",
      "display_name": "Python 3"
    },
    "language_info": {
      "name": "python"
    }
  },
  "cells": [
    {
      "cell_type": "markdown",
      "metadata": {
        "id": "view-in-github",
        "colab_type": "text"
      },
      "source": [
        "<a href=\"https://colab.research.google.com/github/cchois/Matematicas-Discretas-II/blob/main/TotientdeEuler.ipynb\" target=\"_parent\"><img src=\"https://colab.research.google.com/assets/colab-badge.svg\" alt=\"Open In Colab\"/></a>"
      ]
    },
    {
      "cell_type": "markdown",
      "source": [
        "Fuerza Bruta"
      ],
      "metadata": {
        "id": "7qT4XEdnu4RZ"
      }
    },
    {
      "cell_type": "code",
      "execution_count": null,
      "metadata": {
        "id": "jKgK0UxltvQc",
        "colab": {
          "base_uri": "https://localhost:8080/"
        },
        "outputId": "f27cc1fb-18a6-45ab-af71-2155f4643e09"
      },
      "outputs": [
        {
          "output_type": "stream",
          "name": "stdout",
          "text": [
            "True\n",
            "Tiempo de ejecución: 0.05121731758117676\n"
          ]
        }
      ],
      "source": [
        "import time\n",
        "from math import gcd\n",
        "\n",
        "def es_primo(num):\n",
        "    if num < 2:\n",
        "        return False\n",
        "    for i in range(2, num):\n",
        "        if gcd(i, num) != 1:\n",
        "            return False\n",
        "    return True\n",
        "\n",
        "inicio = time.time()\n",
        "print(es_primo(131071))\n",
        "fin = time.time()\n",
        "print(\"Tiempo de ejecución:\", fin - inicio)"
      ]
    },
    {
      "cell_type": "markdown",
      "source": [
        "TotientdeEuler"
      ],
      "metadata": {
        "id": "SDNnoblfv8jj"
      }
    },
    {
      "cell_type": "code",
      "source": [
        "def is_prime_totient(n):\n",
        "    if n < 2:\n",
        "        return False\n",
        "    totient_n = calculate_totient(n)\n",
        "    return totient_n == n - 1\n",
        "\n",
        "# Función para calcular la función Totient de Euler de un número\n",
        "def calculate_totient(n):\n",
        "    coprimes = [i for i in range(1, n) if calculate_gcd(i, n) == 1]\n",
        "    return len(coprimes)\n",
        "\n",
        "# Función para calcular el MCD\n",
        "def calculate_gcd(x, y):\n",
        "    while y:\n",
        "        x, y = y, x % y\n",
        "    return x\n",
        "\n",
        "inicio = time.time()\n",
        "print(is_prime_totient(131071))\n",
        "fin = time.time()\n",
        "print(\"Tiempo de ejecución:\", fin - inicio)"
      ],
      "metadata": {
        "id": "sfFuU8m-wwjQ",
        "colab": {
          "base_uri": "https://localhost:8080/"
        },
        "outputId": "9dc550d3-5ff6-42b9-9451-bcea5897cea8"
      },
      "execution_count": null,
      "outputs": [
        {
          "output_type": "stream",
          "name": "stdout",
          "text": [
            "True\n",
            "Tiempo de ejecución: 0.10100078582763672\n"
          ]
        }
      ]
    },
    {
      "cell_type": "code",
      "source": [
        "import timeit\n",
        "\n",
        "\n",
        "t1 = timeit.timeit(lambda: es_primo(131071), number=1000)\n",
        "\n",
        "\n",
        "t2 = timeit.timeit(lambda: is_prime_totient(131071), number=1000)\n",
        "\n",
        "print(f\"Tiempo de ejecución para es_primo: {t1}\")\n",
        "print(f\"Tiempo de ejecución para is_prime_totient: {t2}\")"
      ],
      "metadata": {
        "colab": {
          "base_uri": "https://localhost:8080/"
        },
        "id": "Xej6Cg0Rxgo5",
        "outputId": "96bcd126-2acf-4d15-8c60-53f334b1e14b"
      },
      "execution_count": null,
      "outputs": [
        {
          "output_type": "stream",
          "name": "stdout",
          "text": [
            "Tiempo de ejecución para es_primo: 39.73146785299991\n",
            "Tiempo de ejecución para is_prime_totient: 105.53935229799993\n"
          ]
        }
      ]
    }
  ]
}