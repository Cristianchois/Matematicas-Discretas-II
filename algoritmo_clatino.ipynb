{
  "metadata": {
    "language_info": {
      "codemirror_mode": {
        "name": "python",
        "version": 3
      },
      "file_extension": ".py",
      "mimetype": "text/x-python",
      "name": "python",
      "nbconvert_exporter": "python",
      "pygments_lexer": "ipython3",
      "version": "3.8"
    },
    "kernelspec": {
      "name": "python",
      "display_name": "Python (Pyodide)",
      "language": "python"
    }
  },
  "nbformat_minor": 4,
  "nbformat": 4,
  "cells": [
    {
      "cell_type": "code",
      "source": "#para verificar si una matriz ens un cuadrado latino debemos crear sets para tanto columnas como filas de la matriz, esto con el fin de guardar cada \n#uno de estas filas y columnas,luego usamos el metodo add para añadir cada elemento que no este repetido, finalmente verficamos la longitud de cada fila y cada columna \n#para corroborar que no hayan elementos repetidos, en caso de que alguna fila o columna no corresponda con el tamaño de la matriz significa que no es un cuadrado latino, \n#de lo contrario si corresponde a un cuadrado latino.",
      "metadata": {
        "trusted": true
      },
      "execution_count": 21,
      "outputs": [
        {
          "name": "stdout",
          "text": "Es un cuadrado latino\n",
          "output_type": "stream"
        }
      ]
    },
    {
      "cell_type": "code",
      "source": "def islatinsquare(m): \n    n=len(m)      \n    \n    f=[]\n    for x in range(n):  #se crean los sets correspondientes a las filas de la matriz.\n        f.append(set([]))\n        \n    c=[]\n    for x in range(n):  #se crean los sets correspondientes a las columnas de la matriz.\n        c.append(set([]))\n    \n    e=0\n    for i in range(n):\n        for j in range(n):\n            f[i].add(m[i][j]) #Se usa el metodo add para tomar los elementos sin repetir de cada fila y columna.\n            c[j].add(m[i][j]) \n            if(m[i][j]<=0 or m[i][j]>n): #se verifica si alguna fila o columan no tiene la longitud de la matriz\n                e+=1\n                 \n    crep=False\n    frep=False\n    \n    for i in range(n):\n        if(len(c[i])!=n):\n            crep=True  #se itera entre todas las columnas buscando una con longitud diferente al tamaño de la matriz\n            \n        if(len(f[i])!=n):\n            frep=True #se itera entre todas las filas buscando una con longitud diferente al tamaño de la matriz\n        \n    if(crep == False or frep == False and e==0 ) : #se imprime el resultado\n        print(\"Es un cuadrado latino\")\n    else:\n        print(\"No es un cuadrado latino\")\n    return\n\n#ejemplo:\n         \nm = [  [ 3, 5, 8, 10 ],\n             [ 8, 3, 10,5  ],\n             [ 5, 10, 3, 8 ],\n             [ 10, 8, 5, 3] ]\n\nislatinsquare(m)  ",
      "metadata": {
        "trusted": true
      },
      "execution_count": 53,
      "outputs": [
        {
          "name": "stdout",
          "text": "Es un cuadrado latino\n",
          "output_type": "stream"
        }
      ]
    },
    {
      "cell_type": "code",
      "source": "",
      "metadata": {},
      "execution_count": null,
      "outputs": []
    },
    {
      "cell_type": "code",
      "source": "",
      "metadata": {},
      "execution_count": null,
      "outputs": []
    }
  ]
}